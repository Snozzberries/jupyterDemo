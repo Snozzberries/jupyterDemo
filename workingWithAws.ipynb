{
 "cells": [
  {
   "attachments": {},
   "cell_type": "markdown",
   "id": "420e9874",
   "metadata": {},
   "source": [
    "# Website Recovery Procedure\n",
    "\n",
    " > You will review the steps within the documented procedure for remediation of website issues.\n",
    "\n",
    "# Table of Contents\n",
    " - [Prerequisites](#Prerequisites)\n",
    "   - [Install Modules](#install-modules)\n",
    "   - [Testing Your Site](#testing-your-site)\n",
    " - [AWS Discovery](#aws-discovery)\n",
    "   - [Review Route 53 Configuration](#review-route-53-configuration)\n",
    "   - [Review Elastic Load Balancer (ELB) Configuration](#review-elastic-load-balancer-(ELB)-configuration)\n",
    "   - [Review Elastic Compute Cloud (EC2) Configuration](#review-elastic-compute-cloud-(EC2)-configuration)\n",
    " - [Remediate](#remediate)\n",
    " - [Appendix](#appendix)"
   ]
  },
  {
   "cell_type": "code",
   "execution_count": 3,
   "metadata": {
    "dotnet_interactive": {
     "language": "mermaid"
    },
    "polyglot_notebook": {
     "kernelName": "mermaid"
    }
   },
   "outputs": [
    {
     "data": {
      "text/html": [
       "<div class=\"mermaidMarkdownContainer\" style=\"background-color:white\">\r\n",
       "<link rel=\"stylesheet\" href=\"https://cdnjs.cloudflare.com/ajax/libs/font-awesome/6.2.0/css/all.min.css\">\r\n",
       "<div id=\"b7d714745ef74a1692e14fa296733644\"></div>\r\n",
       "<script type=\"module\">\r\n",
       "\r\n",
       "            import mermaid from 'https://cdn.jsdelivr.net/npm/mermaid@10.1.0/dist/mermaid.esm.min.mjs';\r\n",
       "            let renderTarget = document.getElementById('b7d714745ef74a1692e14fa296733644');\r\n",
       "            try {\r\n",
       "                const {svg, bindFunctions} = await mermaid.mermaidAPI.render( \r\n",
       "                    'mermaid_b7d714745ef74a1692e14fa296733644', \r\n",
       "                    `flowchart TB\r\n",
       "    subgraph one [Prerequisites]\r\n",
       "        direction LR\r\n",
       "        s1(Install Modules) --> s2(Testing Your Site)\r\n",
       "    end\r\n",
       "    subgraph two [AWS Discovery]\r\n",
       "        direction LR\r\n",
       "        s5(Review Route 53 Config) --> s6(Review ELB Config)\r\n",
       "        s6 --> s7(Review EC2 Config)\r\n",
       "    end\r\n",
       "    one ==> two\r\n",
       "    two ==> three(Remediate)`);\r\n",
       "                renderTarget.innerHTML = svg;\r\n",
       "                bindFunctions?.(renderTarget);\r\n",
       "            }\r\n",
       "            catch (error) {\r\n",
       "                console.log(error);\r\n",
       "            }\r\n",
       "</script>\r\n",
       "</div>\r\n"
      ]
     },
     "metadata": {},
     "output_type": "display_data"
    }
   ],
   "source": [
    "#!mermaid\n",
    "flowchart TB\n",
    "    subgraph one [Prerequisites]\n",
    "        direction LR\n",
    "        s1(Install Modules) --> s2(Testing Your Site)\n",
    "    end\n",
    "    subgraph two [AWS Discovery]\n",
    "        direction LR\n",
    "        s5(Review Route 53 Config) --> s6(Review ELB Config)\n",
    "        s6 --> s7(Review EC2 Config)\n",
    "    end\n",
    "    one ==> two\n",
    "    two ==> three(Remediate)"
   ]
  },
  {
   "attachments": {},
   "cell_type": "markdown",
   "id": "b415dd16",
   "metadata": {},
   "source": [
    "# Prerequisites\n",
    "\n",
    "## Install Modules\n",
    "\n",
    "You will use PowerShell to work with the [AWS Tools for PowerShell](https://aws.amazon.com/powershell/) and to do this you will require the use of a few modules.\n",
    "\n",
    "Begin by:\n",
    " - Identifying the core required modules using the [array sub-expression operator](https://learn.microsoft.com/en-us/powershell/module/microsoft.powershell.core/about/about_arrays#the-array-sub-expression-operator)"
   ]
  },
  {
   "cell_type": "code",
   "execution_count": null,
   "metadata": {
    "dotnet_interactive": {
     "language": "pwsh"
    },
    "polyglot_notebook": {
     "kernelName": "pwsh"
    }
   },
   "outputs": [],
   "source": [
    "$modules=@(\n",
    "    \"AWS.Tools.Common\"\n",
    "    \"AWS.Tools.Installer\"\n",
    ")"
   ]
  },
  {
   "attachments": {},
   "cell_type": "markdown",
   "id": "42d3b8ab",
   "metadata": {},
   "source": [
    "* The AWS Tools for PowerShell will also use a separate installation process for the service specific modules"
   ]
  },
  {
   "cell_type": "code",
   "execution_count": null,
   "metadata": {
    "dotnet_interactive": {
     "language": "pwsh"
    },
    "polyglot_notebook": {
     "kernelName": "pwsh"
    }
   },
   "outputs": [],
   "source": [
    "$awsModules=@(\n",
    "    \"AWS.Tools.EC2\"\n",
    "    \"AWS.Tools.ElasticLoadBalancingV2\"\n",
    "    \"AWS.Tools.Route53\"\n",
    ")"
   ]
  },
  {
   "attachments": {},
   "cell_type": "markdown",
   "id": "da303fde",
   "metadata": {},
   "source": [
    " - Identifying currently available AWS Tools for PowerShell modules\n",
    "\n",
    "> ---\n",
    "> ✒️ **_NOTE:_** Below you will use the `?` alias for Where-Object and the `$_` alias for [`$PSItem`](https://learn.microsoft.com/en-us/powershell/module/microsoft.powershell.core/about/about_psitem)\n",
    ">\n",
    "> ---"
   ]
  },
  {
   "cell_type": "code",
   "execution_count": null,
   "metadata": {
    "dotnet_interactive": {
     "language": "pwsh"
    },
    "polyglot_notebook": {
     "kernelName": "pwsh"
    }
   },
   "outputs": [],
   "source": [
    "$available = Get-Module -ListAvailable|?{$_.Name -like \"AWS.Tools.*\"}"
   ]
  },
  {
   "attachments": {},
   "cell_type": "markdown",
   "id": "735dc8ad",
   "metadata": {},
   "source": [
    " - Then if a necessary module is not available you will install it"
   ]
  },
  {
   "cell_type": "code",
   "execution_count": null,
   "metadata": {
    "dotnet_interactive": {
     "language": "pwsh"
    },
    "polyglot_notebook": {
     "kernelName": "pwsh"
    }
   },
   "outputs": [],
   "source": [
    "foreach($module in $modules)\n",
    "{\n",
    "    if($module -notin $available.Name)\n",
    "    {\n",
    "        Install-Module $module -Force\n",
    "    }\n",
    "}\n",
    "\n",
    "foreach($module in $awsModules)\n",
    "{\n",
    "    if($module -notin $available.Name)\n",
    "    {\n",
    "        Install-AWSToolsModule $module -Force\n",
    "    }\n",
    "}"
   ]
  },
  {
   "attachments": {},
   "cell_type": "markdown",
   "id": "b635d0e3",
   "metadata": {},
   "source": [
    "## Testing Your Site\n",
    "\n",
    "Test to see if the public URL is reachable"
   ]
  },
  {
   "cell_type": "code",
   "execution_count": null,
   "metadata": {
    "dotnet_interactive": {
     "language": "pwsh"
    },
    "polyglot_notebook": {
     "kernelName": "pwsh"
    }
   },
   "outputs": [],
   "source": [
    "Invoke-RestMethod https://demo.soule.aws.sentinel.com"
   ]
  },
  {
   "attachments": {},
   "cell_type": "markdown",
   "id": "cbcb67d1",
   "metadata": {},
   "source": [
    "# AWS Discovery\n",
    "\n",
    "> ---\n",
    "> ℹ️ **_Information:_** Your JupyterLab instance runs as a Fargate task and inherits an Identity Access Management (IAM) Role, so you do not need to explicitly authenticate.\n",
    ">\n",
    "> ---\n",
    "\n",
    "## Review Route 53 Configuration\n",
    "\n",
    "Now that you have the necessary modules, you can begin reviewing the existing environment. You will begin identifying resource dependencies from the outside in as you know the website's public URL.\n",
    "\n",
    " - Begin by looking up the Route 53 Zone"
   ]
  },
  {
   "cell_type": "code",
   "execution_count": null,
   "metadata": {
    "dotnet_interactive": {
     "language": "pwsh"
    },
    "polyglot_notebook": {
     "kernelName": "pwsh"
    }
   },
   "outputs": [],
   "source": [
    "$id = (Get-R53HostedZonesByName|?{$_.Name -like \"soule.*\"}).Id\n",
    "$id"
   ]
  },
  {
   "cell_type": "code",
   "execution_count": null,
   "metadata": {
    "dotnet_interactive": {
     "language": "pwsh"
    },
    "polyglot_notebook": {
     "kernelName": "pwsh"
    }
   },
   "outputs": [],
   "source": [
    "$sets = (Get-R53ResourceRecordSet $id).ResourceRecordSets\n",
    "$sets|select -First 1"
   ]
  },
  {
   "cell_type": "code",
   "execution_count": null,
   "metadata": {
    "dotnet_interactive": {
     "language": "pwsh"
    },
    "polyglot_notebook": {
     "kernelName": "pwsh"
    }
   },
   "outputs": [],
   "source": [
    "$records = ($sets|?{$_.Name -like \"demo.*\"}).ResourceRecords.Value\n",
    "$records"
   ]
  },
  {
   "attachments": {},
   "cell_type": "markdown",
   "id": "2bc50fe6",
   "metadata": {},
   "source": [
    "### Testing Using Record Value"
   ]
  },
  {
   "cell_type": "code",
   "execution_count": null,
   "metadata": {
    "dotnet_interactive": {
     "language": "pwsh"
    },
    "polyglot_notebook": {
     "kernelName": "pwsh"
    }
   },
   "outputs": [],
   "source": [
    "$records|%{irm \"https://$_\" -SkipCertificateCheck}"
   ]
  },
  {
   "attachments": {},
   "cell_type": "markdown",
   "id": "2512e17d",
   "metadata": {},
   "source": [
    "## Review Elastic Load Balancer (ELB) Configuration"
   ]
  },
  {
   "cell_type": "code",
   "execution_count": null,
   "metadata": {
    "dotnet_interactive": {
     "language": "pwsh"
    },
    "polyglot_notebook": {
     "kernelName": "pwsh"
    }
   },
   "outputs": [],
   "source": [
    "$lb = Get-ELB2LoadBalancer|?{$_.DnsName -in $records}\n",
    "$lb"
   ]
  },
  {
   "cell_type": "code",
   "execution_count": null,
   "metadata": {
    "dotnet_interactive": {
     "language": "pwsh"
    },
    "polyglot_notebook": {
     "kernelName": "pwsh"
    }
   },
   "outputs": [],
   "source": [
    "$group = Get-ELB2TargetGroup -LoadBalancerArn $lb.LoadBalancerArn\n",
    "$group"
   ]
  },
  {
   "cell_type": "code",
   "execution_count": null,
   "metadata": {
    "dotnet_interactive": {
     "language": "pwsh"
    },
    "polyglot_notebook": {
     "kernelName": "pwsh"
    }
   },
   "outputs": [],
   "source": [
    "$targetHealth = Get-ELB2TargetHealth $group.TargetGroupArn\n",
    "$targetHealth"
   ]
  },
  {
   "cell_type": "code",
   "execution_count": null,
   "metadata": {
    "dotnet_interactive": {
     "language": "pwsh"
    },
    "polyglot_notebook": {
     "kernelName": "pwsh"
    }
   },
   "outputs": [],
   "source": [
    "$targetHealth|select @{n=\"target\";e={$_.Target.Id}},@{n=\"health\";e={$_.TargetHealth.State}}"
   ]
  },
  {
   "cell_type": "code",
   "execution_count": null,
   "metadata": {
    "dotnet_interactive": {
     "language": "pwsh"
    },
    "polyglot_notebook": {
     "kernelName": "pwsh"
    }
   },
   "outputs": [],
   "source": [
    "$instances = (Get-EC2Instance|?{$_.Instances.InstanceId -in $targetHealth.Target.Id}).Instances\n",
    "$instances"
   ]
  },
  {
   "attachments": {},
   "cell_type": "markdown",
   "id": "cf8bbd87",
   "metadata": {},
   "source": [
    "### Testing Using Targets"
   ]
  },
  {
   "cell_type": "code",
   "execution_count": null,
   "id": "66580f7c",
   "metadata": {
    "dotnet_interactive": {
     "language": "pwsh"
    },
    "polyglot_notebook": {
     "kernelName": "pwsh"
    }
   },
   "outputs": [],
   "source": [
    "$instances|%{irm \"$($group.HealthCheckProtocol)://$($_.PrivateIpAddress):$($group.Port)$($group.healthCheckPath)\"}"
   ]
  },
  {
   "attachments": {},
   "cell_type": "markdown",
   "id": "118363e7",
   "metadata": {},
   "source": [
    "## Review Elastic Compute Cloud (EC2) Configuration"
   ]
  },
  {
   "cell_type": "code",
   "execution_count": null,
   "metadata": {
    "dotnet_interactive": {
     "language": "pwsh"
    },
    "polyglot_notebook": {
     "kernelName": "pwsh"
    }
   },
   "outputs": [],
   "source": [
    "$instanceState = Get-EC2InstanceStatus -InstanceIds $instances -IncludeAllInstances $true|select InstanceId,@{n=\"InstanceState\";e={$_.InstanceState.Name}},@{n=\"InstanceStatus\";e={$_.Status.Details}}\n",
    "$instanceState"
   ]
  },
  {
   "attachments": {},
   "cell_type": "markdown",
   "id": "7f5679ae",
   "metadata": {},
   "source": [
    "### Identify Stopped Targets"
   ]
  },
  {
   "cell_type": "code",
   "execution_count": null,
   "metadata": {
    "dotnet_interactive": {
     "language": "pwsh"
    },
    "polyglot_notebook": {
     "kernelName": "pwsh"
    }
   },
   "outputs": [],
   "source": [
    "$stoppedInstances = $instanceState|?{$_.InstanceState -notin @(\"running\",\"pending\")}\n",
    "$stoppedInstances"
   ]
  },
  {
   "attachments": {},
   "cell_type": "markdown",
   "id": "114b2298",
   "metadata": {},
   "source": [
    "# Remediate"
   ]
  },
  {
   "cell_type": "code",
   "execution_count": null,
   "metadata": {
    "dotnet_interactive": {
     "language": "pwsh"
    },
    "polyglot_notebook": {
     "kernelName": "pwsh"
    }
   },
   "outputs": [],
   "source": [
    "$stoppedInstances|%{Start-EC2Instance $_.InstanceId}"
   ]
  },
  {
   "cell_type": "code",
   "execution_count": null,
   "metadata": {
    "dotnet_interactive": {
     "language": "pwsh"
    },
    "polyglot_notebook": {
     "kernelName": "pwsh"
    }
   },
   "outputs": [],
   "source": [
    "$instanceState = Get-EC2InstanceStatus -InstanceIds $instances -IncludeAllInstances $true|select InstanceId,@{n=\"InstanceState\";e={$_.InstanceState.Name}},@{n=\"InstanceStatus\";e={$_.Status.Details}}\n",
    "$instanceState"
   ]
  },
  {
   "cell_type": "code",
   "execution_count": null,
   "metadata": {
    "dotnet_interactive": {
     "language": "pwsh"
    },
    "polyglot_notebook": {
     "kernelName": "pwsh"
    }
   },
   "outputs": [],
   "source": [
    "$instances|%{irm \"$($group.HealthCheckProtocol)://$($_.PrivateIpAddress):$($group.Port)$($group.healthCheckPath)\"}"
   ]
  },
  {
   "cell_type": "code",
   "execution_count": null,
   "metadata": {
    "dotnet_interactive": {
     "language": "pwsh"
    },
    "polyglot_notebook": {
     "kernelName": "pwsh"
    }
   },
   "outputs": [],
   "source": [
    "$records|%{irm \"https://$_\" -SkipCertificateCheck}"
   ]
  },
  {
   "cell_type": "code",
   "execution_count": null,
   "metadata": {
    "dotnet_interactive": {
     "language": "pwsh"
    },
    "polyglot_notebook": {
     "kernelName": "pwsh"
    }
   },
   "outputs": [],
   "source": [
    "irm https://demo.soule.aws.sentinel.com"
   ]
  },
  {
   "attachments": {},
   "cell_type": "markdown",
   "id": "72f8a185",
   "metadata": {},
   "source": [
    "# Appendix\n",
    "\n",
    "## Identifying API Operation to Cmdlet Mapping"
   ]
  },
  {
   "cell_type": "code",
   "execution_count": null,
   "id": "0b561af4",
   "metadata": {
    "dotnet_interactive": {
     "language": "pwsh"
    },
    "polyglot_notebook": {
     "kernelName": "pwsh"
    }
   },
   "outputs": [],
   "source": [
    "$apiOperations = @(\n",
    "    \"listHostedZonesByName\",\n",
    "    \"listResourceRecordSets\",\n",
    "    \"describeLoadBalancers\",\n",
    "    \"describeTargetGroups\",\n",
    "    \"describeTargetHealth\",\n",
    "    \"describeInstances\",\n",
    "    \"describeInstanceStatus\"\n",
    ")\n",
    "foreach($operation in $apiOperations)\n",
    "{\n",
    "    Get-AWSCmdletName -ApiOperation $operation\n",
    "}"
   ]
  }
 ],
 "metadata": {
  "kernelspec": {
   "display_name": ".NET (C#)",
   "language": "C#",
   "name": ".net-csharp"
  },
  "language_info": {
   "file_extension": ".ps1",
   "mimetype": "text/x-pwsh",
   "name": "polyglot-notebook",
   "pygments_lexer": "pwsh",
   "version": "7.0"
  },
  "polyglot_notebook": {
   "kernelInfo": {
    "defaultKernelName": "csharp",
    "items": [
     {
      "aliases": [],
      "name": "csharp"
     },
     {
      "aliases": [],
      "name": "pwsh"
     }
    ]
   }
  }
 },
 "nbformat": 4,
 "nbformat_minor": 5
}
