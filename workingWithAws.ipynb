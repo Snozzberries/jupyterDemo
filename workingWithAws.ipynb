{
 "cells": [
  {
   "attachments": {},
   "cell_type": "markdown",
   "id": "420e9874",
   "metadata": {},
   "source": [
    "# Website Recovery Procedure\n",
    "\n",
    " > You will review the steps within the documented procedure for remediation of website issues.\n",
    "\n",
    "# Table of Contents\n",
    " - [Prerequisites](#Prerequisites)\n",
    "   - [Install Modules](#install-modules)\n",
    "   - [Testing Your Site](#testing-your-site)\n",
    " - [AWS Discovery](#aws-discovery)\n",
    "   - [Review Route 53 Configuration](#review-route-53-configuration)\n",
    "   - [Review Elastic Load Balancer (ELB) Configuration](#review-elastic-load-balancer-(ELB)-configuration)\n",
    "   - [Review Elastic Compute Cloud (EC2) Configuration](#review-elastic-compute-cloud-(EC2)-configuration)\n",
    " - [Remediate](#remediate)\n",
    " - [Appendix](#appendix)"
   ]
  },
  {
   "cell_type": "code",
   "execution_count": 3,
   "metadata": {
    "dotnet_interactive": {
     "language": "mermaid"
    },
    "polyglot_notebook": {
     "kernelName": "mermaid"
    },
    "vscode": {
     "languageId": "powershell"
    }
   },
   "outputs": [
    {
     "data": {
      "text/html": [
       "<div class=\"mermaidMarkdownContainer\" style=\"background-color:white\">\r\n",
       "<link rel=\"stylesheet\" href=\"https://cdnjs.cloudflare.com/ajax/libs/font-awesome/6.2.0/css/all.min.css\">\r\n",
       "<div id=\"b7d714745ef74a1692e14fa296733644\"></div>\r\n",
       "<script type=\"module\">\r\n",
       "\r\n",
       "            import mermaid from 'https://cdn.jsdelivr.net/npm/mermaid@10.1.0/dist/mermaid.esm.min.mjs';\r\n",
       "            let renderTarget = document.getElementById('b7d714745ef74a1692e14fa296733644');\r\n",
       "            try {\r\n",
       "                const {svg, bindFunctions} = await mermaid.mermaidAPI.render( \r\n",
       "                    'mermaid_b7d714745ef74a1692e14fa296733644', \r\n",
       "                    `flowchart TB\r\n",
       "    subgraph one [Prerequisites]\r\n",
       "        direction LR\r\n",
       "        s1(Install Modules) --> s2(Testing Your Site)\r\n",
       "    end\r\n",
       "    subgraph two [AWS Discovery]\r\n",
       "        direction LR\r\n",
       "        s5(Review Route 53 Config) --> s6(Review ELB Config)\r\n",
       "        s6 --> s7(Review EC2 Config)\r\n",
       "    end\r\n",
       "    one ==> two\r\n",
       "    two ==> three(Remediate)`);\r\n",
       "                renderTarget.innerHTML = svg;\r\n",
       "                bindFunctions?.(renderTarget);\r\n",
       "            }\r\n",
       "            catch (error) {\r\n",
       "                console.log(error);\r\n",
       "            }\r\n",
       "</script>\r\n",
       "</div>\r\n"
      ]
     },
     "metadata": {},
     "output_type": "display_data"
    }
   ],
   "source": [
    "#!mermaid\n",
    "flowchart TB\n",
    "    subgraph one [Prerequisites]\n",
    "        direction LR\n",
    "        s1(Install Modules) --> s2(Testing Your Site)\n",
    "    end\n",
    "    subgraph two [AWS Discovery]\n",
    "        direction LR\n",
    "        s5(Review Route 53 Config) --> s6(Review ELB Config)\n",
    "        s6 --> s7(Review EC2 Config)\n",
    "    end\n",
    "    one ==> two\n",
    "    two ==> three(Remediate)"
   ]
  },
  {
   "attachments": {},
   "cell_type": "markdown",
   "id": "b415dd16",
   "metadata": {},
   "source": [
    "# Prerequisites\n",
    "\n",
    "## Install Modules\n",
    "\n",
    "You will use PowerShell to work with the [AWS Tools for PowerShell](https://aws.amazon.com/powershell/) and to do this you will require the use of a few modules.\n",
    "\n",
    "Begin by:\n",
    " - Identifying the core required modules using the [array sub-expression operator](https://learn.microsoft.com/en-us/powershell/module/microsoft.powershell.core/about/about_arrays#the-array-sub-expression-operator)"
   ]
  },
  {
   "cell_type": "code",
   "execution_count": null,
   "metadata": {
    "dotnet_interactive": {
     "language": "pwsh"
    },
    "polyglot_notebook": {
     "kernelName": "pwsh"
    },
    "vscode": {
     "languageId": "powershell"
    }
   },
   "outputs": [],
   "source": [
    "$modules=@(\n",
    "    \"AWS.Tools.Common\"\n",
    "    \"AWS.Tools.Installer\"\n",
    ")"
   ]
  },
  {
   "attachments": {},
   "cell_type": "markdown",
   "id": "42d3b8ab",
   "metadata": {},
   "source": [
    "* The AWS Tools for PowerShell will also use a separate installation process for the service specific modules"
   ]
  },
  {
   "cell_type": "code",
   "execution_count": null,
   "metadata": {
    "dotnet_interactive": {
     "language": "pwsh"
    },
    "polyglot_notebook": {
     "kernelName": "pwsh"
    },
    "vscode": {
     "languageId": "powershell"
    }
   },
   "outputs": [],
   "source": [
    "$awsModules=@(\n",
    "    \"AWS.Tools.EC2\"\n",
    "    \"AWS.Tools.ElasticLoadBalancingV2\"\n",
    "    \"AWS.Tools.Route53\"\n",
    ")"
   ]
  },
  {
   "attachments": {},
   "cell_type": "markdown",
   "id": "da303fde",
   "metadata": {},
   "source": [
    " - Identifying currently available AWS Tools for PowerShell modules\n",
    "\n",
    "> ---\n",
    "> ✒️ **_NOTE:_** Below you will use the `?` alias for Where-Object and the `$_` alias for [`$PSItem`](https://learn.microsoft.com/en-us/powershell/module/microsoft.powershell.core/about/about_psitem)\n",
    ">\n",
    "> ---"
   ]
  },
  {
   "cell_type": "code",
   "execution_count": null,
   "metadata": {
    "dotnet_interactive": {
     "language": "pwsh"
    },
    "polyglot_notebook": {
     "kernelName": "pwsh"
    },
    "vscode": {
     "languageId": "powershell"
    }
   },
   "outputs": [],
   "source": [
    "$available = Get-Module -ListAvailable|?{$_.Name -like \"AWS.Tools.*\"}"
   ]
  },
  {
   "attachments": {},
   "cell_type": "markdown",
   "id": "735dc8ad",
   "metadata": {},
   "source": [
    " - Then if a necessary module is not available you will install it"
   ]
  },
  {
   "cell_type": "code",
   "execution_count": null,
   "metadata": {
    "dotnet_interactive": {
     "language": "pwsh"
    },
    "polyglot_notebook": {
     "kernelName": "pwsh"
    },
    "vscode": {
     "languageId": "powershell"
    }
   },
   "outputs": [],
   "source": [
    "foreach($module in $modules)\n",
    "{\n",
    "    if($module -notin $available.Name)\n",
    "    {\n",
    "        Install-Module $module -Force\n",
    "    }\n",
    "}\n",
    "\n",
    "foreach($module in $awsModules)\n",
    "{\n",
    "    if($module -notin $available.Name)\n",
    "    {\n",
    "        Install-AWSToolsModule $module -Force\n",
    "    }\n",
    "}"
   ]
  },
  {
   "attachments": {},
   "cell_type": "markdown",
   "id": "b635d0e3",
   "metadata": {},
   "source": [
    "## Testing Your Site\n",
    "\n",
    "Test to see if the public URL is reachable"
   ]
  },
  {
   "cell_type": "code",
   "execution_count": null,
   "metadata": {
    "dotnet_interactive": {
     "language": "pwsh"
    },
    "polyglot_notebook": {
     "kernelName": "pwsh"
    },
    "vscode": {
     "languageId": "powershell"
    }
   },
   "outputs": [],
   "source": [
    "Invoke-WebRequest https://demo.soule.aws.sentinel.com"
   ]
  },
  {
   "attachments": {},
   "cell_type": "markdown",
   "id": "cbcb67d1",
   "metadata": {},
   "source": [
    "# AWS Discovery\n",
    "\n",
    "> ---\n",
    "> ℹ️ **_Information:_** Your JupyterLab instance runs as a Fargate task and inherits an Identity & Access Management (IAM) Role, so you do not need to explicitly authenticate.\n",
    ">\n",
    "> ---\n",
    "\n",
    "## Review Route 53 Configuration\n",
    "\n",
    "Now that you have the necessary modules, you can begin reviewing the existing environment. You will begin identifying resource dependencies from the outside in as you know the website's public URL.\n",
    "\n",
    " - Begin by looking up your Route 53 Zone"
   ]
  },
  {
   "cell_type": "code",
   "execution_count": null,
   "metadata": {
    "dotnet_interactive": {
     "language": "pwsh"
    },
    "polyglot_notebook": {
     "kernelName": "pwsh"
    },
    "vscode": {
     "languageId": "powershell"
    }
   },
   "outputs": [],
   "source": [
    "$id = (Get-R53HostedZonesByName|?{$_.Name -like \"soule.*\"}).Id\n",
    "$id"
   ]
  },
  {
   "attachments": {},
   "cell_type": "markdown",
   "id": "2968ae28",
   "metadata": {},
   "source": [
    " - Then get the records within your Zone"
   ]
  },
  {
   "cell_type": "code",
   "execution_count": null,
   "metadata": {
    "dotnet_interactive": {
     "language": "pwsh"
    },
    "polyglot_notebook": {
     "kernelName": "pwsh"
    },
    "vscode": {
     "languageId": "powershell"
    }
   },
   "outputs": [],
   "source": [
    "$sets = (Get-R53ResourceRecordSet $id).ResourceRecordSets\n",
    "$sets|select -First 1"
   ]
  },
  {
   "attachments": {},
   "cell_type": "markdown",
   "id": "dbac53a3",
   "metadata": {},
   "source": [
    " - Find the record for your website"
   ]
  },
  {
   "cell_type": "code",
   "execution_count": null,
   "metadata": {
    "dotnet_interactive": {
     "language": "pwsh"
    },
    "polyglot_notebook": {
     "kernelName": "pwsh"
    },
    "vscode": {
     "languageId": "powershell"
    }
   },
   "outputs": [],
   "source": [
    "$records = ($sets|?{$_.Name -like \"demo.*\"}).ResourceRecords.Value\n",
    "$records"
   ]
  },
  {
   "attachments": {},
   "cell_type": "markdown",
   "id": "2bc50fe6",
   "metadata": {},
   "source": [
    "### Testing Using Record Value\n",
    "\n",
    " - With the currently configured source for your website URL test if the page can load"
   ]
  },
  {
   "cell_type": "code",
   "execution_count": null,
   "metadata": {
    "dotnet_interactive": {
     "language": "pwsh"
    },
    "polyglot_notebook": {
     "kernelName": "pwsh"
    },
    "vscode": {
     "languageId": "powershell"
    }
   },
   "outputs": [],
   "source": [
    "$records|%{Invoke-WebRequest \"https://$_\" -SkipCertificateCheck}"
   ]
  },
  {
   "attachments": {},
   "cell_type": "markdown",
   "id": "2512e17d",
   "metadata": {},
   "source": [
    "## Review Elastic Load Balancer (ELB) Configuration\n",
    "\n",
    "Next you will want to determine what resources are hosting the website.\n",
    "\n",
    " - Begin by finding the ELB that the DNS record references\n"
   ]
  },
  {
   "cell_type": "code",
   "execution_count": null,
   "metadata": {
    "dotnet_interactive": {
     "language": "pwsh"
    },
    "polyglot_notebook": {
     "kernelName": "pwsh"
    },
    "vscode": {
     "languageId": "powershell"
    }
   },
   "outputs": [],
   "source": [
    "$lb = Get-ELB2LoadBalancer|?{$_.DnsName -in $records}\n",
    "$lb"
   ]
  },
  {
   "attachments": {},
   "cell_type": "markdown",
   "id": "84eca578",
   "metadata": {},
   "source": [
    " - Now that you identified the load balancer you can determine what resources are in it's target group"
   ]
  },
  {
   "cell_type": "code",
   "execution_count": null,
   "metadata": {
    "dotnet_interactive": {
     "language": "pwsh"
    },
    "polyglot_notebook": {
     "kernelName": "pwsh"
    },
    "vscode": {
     "languageId": "powershell"
    }
   },
   "outputs": [],
   "source": [
    "$group = Get-ELB2TargetGroup -LoadBalancerArn $lb.LoadBalancerArn\n",
    "$group"
   ]
  },
  {
   "attachments": {},
   "cell_type": "markdown",
   "id": "79c20d49",
   "metadata": {},
   "source": [
    " - Start by checking the health of the target group resources\n",
    "   - You can also format the selection for easier review"
   ]
  },
  {
   "cell_type": "code",
   "execution_count": null,
   "metadata": {
    "dotnet_interactive": {
     "language": "pwsh"
    },
    "polyglot_notebook": {
     "kernelName": "pwsh"
    },
    "vscode": {
     "languageId": "powershell"
    }
   },
   "outputs": [],
   "source": [
    "$targetHealth = Get-ELB2TargetHealth $group.TargetGroupArn\n",
    "$targetHealth|ft @{n=\"target\";e={$_.Target.Id}},@{n=\"health\";e={$_.TargetHealth.State}}"
   ]
  },
  {
   "attachments": {},
   "cell_type": "markdown",
   "id": "ca775989",
   "metadata": {},
   "source": [
    " - Finally you will capture the supporting resources for the ELB"
   ]
  },
  {
   "cell_type": "code",
   "execution_count": null,
   "id": "5fe4e3df",
   "metadata": {
    "dotnet_interactive": {
     "language": "pwsh"
    },
    "polyglot_notebook": {
     "kernelName": "pwsh"
    },
    "vscode": {
     "languageId": "powershell"
    }
   },
   "outputs": [],
   "source": [
    "$instances = (Get-EC2Instance|?{$_.Instances.InstanceId -in $targetHealth.Target.Id}).Instances\n",
    "$instances"
   ]
  },
  {
   "attachments": {},
   "cell_type": "markdown",
   "id": "cf8bbd87",
   "metadata": {},
   "source": [
    "### Testing Using Targets\n",
    "\n",
    " - Test each of the supporting resources of the ELB using the health check properties for the target group and the internal addresses"
   ]
  },
  {
   "cell_type": "code",
   "execution_count": null,
   "id": "66580f7c",
   "metadata": {
    "dotnet_interactive": {
     "language": "pwsh"
    },
    "polyglot_notebook": {
     "kernelName": "pwsh"
    },
    "vscode": {
     "languageId": "powershell"
    }
   },
   "outputs": [],
   "source": [
    "$instances|%{Invoke-WebRequest \"$($group.HealthCheckProtocol)://$($_.PrivateIpAddress):$($group.Port)$($group.healthCheckPath)\"}"
   ]
  },
  {
   "attachments": {},
   "cell_type": "markdown",
   "id": "118363e7",
   "metadata": {},
   "source": [
    "## Review Elastic Compute Cloud (EC2) Configuration\n",
    "\n",
    "Finally you will collect more information on the supporting resources before identifying the cause and remediating.\n",
    "\n",
    " - For each of your supporting resources gather their instance state"
   ]
  },
  {
   "cell_type": "code",
   "execution_count": null,
   "id": "91f55776",
   "metadata": {
    "dotnet_interactive": {
     "language": "pwsh"
    },
    "polyglot_notebook": {
     "kernelName": "pwsh"
    },
    "vscode": {
     "languageId": "powershell"
    }
   },
   "outputs": [],
   "source": [
    "$instanceState = Get-EC2InstanceStatus -InstanceIds $instances -IncludeAllInstances $true|select InstanceId,@{n=\"InstanceState\";e={$_.InstanceState.Name}},@{n=\"InstanceStatus\";e={$_.Status.Details}}\n",
    "$instanceState"
   ]
  },
  {
   "attachments": {},
   "cell_type": "markdown",
   "id": "7f5679ae",
   "metadata": {},
   "source": [
    "### Identify Stopped Targets\n",
    "\n",
    " - Identify if any of your instances are not in a running or pending state"
   ]
  },
  {
   "cell_type": "code",
   "execution_count": null,
   "id": "d214dd17",
   "metadata": {
    "dotnet_interactive": {
     "language": "pwsh"
    },
    "polyglot_notebook": {
     "kernelName": "pwsh"
    },
    "vscode": {
     "languageId": "powershell"
    }
   },
   "outputs": [],
   "source": [
    "$stoppedInstances = $instanceState|?{$_.InstanceState -notin @(\"running\",\"pending\")}\n",
    "$stoppedInstances"
   ]
  },
  {
   "attachments": {},
   "cell_type": "markdown",
   "id": "114b2298",
   "metadata": {},
   "source": [
    "# Remediate\n",
    "\n",
    "In this demo you can remediate the issue by starting the stopped instance."
   ]
  },
  {
   "cell_type": "code",
   "execution_count": null,
   "id": "525ce74e",
   "metadata": {
    "dotnet_interactive": {
     "language": "pwsh"
    },
    "polyglot_notebook": {
     "kernelName": "pwsh"
    },
    "vscode": {
     "languageId": "powershell"
    }
   },
   "outputs": [],
   "source": [
    "$stoppedInstances|%{Start-EC2Instance $_.InstanceId}"
   ]
  },
  {
   "attachments": {},
   "cell_type": "markdown",
   "id": "928ad0b4",
   "metadata": {},
   "source": [
    " - Validate your environment configuration and test your different dependency steps"
   ]
  },
  {
   "cell_type": "code",
   "execution_count": null,
   "id": "68a55911",
   "metadata": {
    "dotnet_interactive": {
     "language": "pwsh"
    },
    "polyglot_notebook": {
     "kernelName": "pwsh"
    },
    "vscode": {
     "languageId": "powershell"
    }
   },
   "outputs": [],
   "source": [
    "$instanceState = Get-EC2InstanceStatus -InstanceIds $instances -IncludeAllInstances $true|select InstanceId,@{n=\"InstanceState\";e={$_.InstanceState.Name}},@{n=\"InstanceStatus\";e={$_.Status.Details}}\n",
    "$instanceState"
   ]
  },
  {
   "cell_type": "code",
   "execution_count": null,
   "id": "6c89220f",
   "metadata": {
    "dotnet_interactive": {
     "language": "pwsh"
    },
    "polyglot_notebook": {
     "kernelName": "pwsh"
    },
    "vscode": {
     "languageId": "powershell"
    }
   },
   "outputs": [],
   "source": [
    "$instances|%{Invoke-WebRequest \"$($group.HealthCheckProtocol)://$($_.PrivateIpAddress):$($group.Port)$($group.healthCheckPath)\"}"
   ]
  },
  {
   "cell_type": "code",
   "execution_count": null,
   "id": "1ea30147",
   "metadata": {
    "dotnet_interactive": {
     "language": "pwsh"
    },
    "polyglot_notebook": {
     "kernelName": "pwsh"
    },
    "vscode": {
     "languageId": "powershell"
    }
   },
   "outputs": [],
   "source": [
    "$records|%{Invoke-WebRequest \"https://$_\" -SkipCertificateCheck}"
   ]
  },
  {
   "cell_type": "code",
   "execution_count": null,
   "id": "3e0e03a8",
   "metadata": {
    "dotnet_interactive": {
     "language": "pwsh"
    },
    "polyglot_notebook": {
     "kernelName": "pwsh"
    },
    "vscode": {
     "languageId": "powershell"
    }
   },
   "outputs": [],
   "source": [
    "Invoke-WebRequest https://demo.soule.aws.sentinel.com"
   ]
  },
  {
   "attachments": {},
   "cell_type": "markdown",
   "id": "72f8a185",
   "metadata": {},
   "source": [
    "# Appendix\n",
    "\n",
    "## Identifying API Operation to Cmdlet Mapping"
   ]
  },
  {
   "cell_type": "code",
   "execution_count": null,
   "id": "0b561af4",
   "metadata": {
    "dotnet_interactive": {
     "language": "pwsh"
    },
    "polyglot_notebook": {
     "kernelName": "pwsh"
    },
    "vscode": {
     "languageId": "powershell"
    }
   },
   "outputs": [],
   "source": [
    "$apiOperations = @(\n",
    "    \"listHostedZonesByName\",\n",
    "    \"listResourceRecordSets\",\n",
    "    \"describeLoadBalancers\",\n",
    "    \"describeTargetGroups\",\n",
    "    \"describeTargetHealth\",\n",
    "    \"describeInstances\",\n",
    "    \"describeInstanceStatus\"\n",
    ")\n",
    "foreach($operation in $apiOperations)\n",
    "{\n",
    "    Get-AWSCmdletName -ApiOperation $operation\n",
    "}"
   ]
  }
 ],
 "metadata": {
  "kernelspec": {
   "display_name": ".NET (PowerShell)",
   "language": "PowerShell",
   "name": ".net-powershell"
  },
  "language_info": {
   "file_extension": ".ps1",
   "mimetype": "text/x-powershell",
   "name": "PowerShell",
   "pygments_lexer": "powershell",
   "version": "7.0"
  }
 },
 "nbformat": 4,
 "nbformat_minor": 5
}
