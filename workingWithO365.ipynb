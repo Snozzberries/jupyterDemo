{
 "cells": [
  {
   "attachments": {},
   "cell_type": "markdown",
   "metadata": {
    "dotnet_interactive": {
     "language": "mermaid"
    },
    "polyglot_notebook": {
     "kernelName": "mermaid"
    }
   },
   "source": [
    "# Table of Contents\n",
    " - [Starting with basics](#starting-with-basics)\n",
    "   - [Install Modules](#install-modules)\n",
    "   - [Manage Permissions](#manage-permissions)\n",
    "   - [Get Email](#get-email)\n",
    "   - [Send Teams Message](#send-teams-message)\n",
    " - [Combining these for complex uses](#combining-these-for-complex-uses)\n",
    "   - [Run a Report](#run-a-report)\n",
    "   - [Summarize Report](#summarize-report)\n",
    "   - [Send Report Summary to Teams](#send-report-summary-to-teams)"
   ]
  },
  {
   "cell_type": "code",
   "execution_count": 1,
   "metadata": {
    "dotnet_interactive": {
     "language": "mermaid"
    },
    "polyglot_notebook": {
     "kernelName": "mermaid"
    }
   },
   "outputs": [
    {
     "data": {
      "text/html": [
       "<div class=\"mermaidMarkdownContainer\" style=\"background-color:white\">\r\n",
       "<link rel=\"stylesheet\" href=\"https://cdnjs.cloudflare.com/ajax/libs/font-awesome/6.2.0/css/all.min.css\">\r\n",
       "<script type=\"text/javascript\">\r\n",
       "\r\n",
       "loadMermaid_ddb0bca5575241a39c0382dac0a2a3e8 = () => {\r\n",
       " \r\n",
       "        (require.config({ 'paths': { 'context': '9.1.7', 'mermaidUri' : 'https://cdn.jsdelivr.net/npm/mermaid@9.1.7/dist/mermaid.min', 'urlArgs': 'cacheBuster=0daa1f020eff421dabb1de1e3a27ba0d' }}) || require)(['mermaidUri'], (mermaid) => {\r\n",
       "\r\n",
       "            let renderTarget = document.getElementById('ddb0bca5575241a39c0382dac0a2a3e8');\r\n",
       "            mermaid.mermaidAPI.render( \r\n",
       "                'mermaid_ddb0bca5575241a39c0382dac0a2a3e8', \r\n",
       "                `flowchart TB\r\n",
       "    subgraph one [Starting with basics]\r\n",
       "        direction LR\r\n",
       "        s1(Install Modules) ==> s2(Manage Permissions)\r\n",
       "        s2 ==> s3(Get Email)\r\n",
       "        s3 ==> s4(Send Teams Message)\r\n",
       "    end\r\n",
       "    subgraph two [Combining these for complex uses]\r\n",
       "        direction LR\r\n",
       "        s5(Run a Report) ==> s6(Summarize Report)\r\n",
       "        s6 ==> s7(Send Report to Teams)\r\n",
       "    end\r\n",
       "    one ==> two`, \r\n",
       "                g => {\r\n",
       "                    renderTarget.innerHTML = g \r\n",
       "                });\r\n",
       "        },\r\n",
       "        (error) => {\r\n",
       "            console.log(error);\r\n",
       "        });\r\n",
       "}\r\n",
       "// ensure `require` is available globally\r\n",
       "if ((typeof(require) !==  typeof(Function)) || (typeof(require.config) !== typeof(Function))) {\r\n",
       "    let require_script = document.createElement('script');\r\n",
       "    require_script.setAttribute('src', 'https://cdnjs.cloudflare.com/ajax/libs/require.js/2.3.6/require.min.js');\r\n",
       "    require_script.setAttribute('type', 'text/javascript');\r\n",
       "    \r\n",
       "    \r\n",
       "    require_script.onload = function() {\r\n",
       "        loadMermaid_ddb0bca5575241a39c0382dac0a2a3e8();\r\n",
       "    };\r\n",
       "\r\n",
       "    document.getElementsByTagName('head')[0].appendChild(require_script);\r\n",
       "}\r\n",
       "else {\r\n",
       "    loadMermaid_ddb0bca5575241a39c0382dac0a2a3e8();\r\n",
       "}\r\n",
       "\r\n",
       "</script>\r\n",
       "<div id=\"ddb0bca5575241a39c0382dac0a2a3e8\"></div>\r\n",
       "</div>\r\n"
      ]
     },
     "metadata": {},
     "output_type": "display_data"
    }
   ],
   "source": [
    "flowchart TB\n",
    "    subgraph one [Starting with basics]\n",
    "        direction LR\n",
    "        s1(Install Modules) ==> s2(Manage Permissions)\n",
    "        s2 ==> s3(Get Email)\n",
    "        s3 ==> s4(Send Teams Message)\n",
    "    end\n",
    "    subgraph two [Combining these for complex uses]\n",
    "        direction LR\n",
    "        s5(Run a Report) ==> s6(Summarize Report)\n",
    "        s6 ==> s7(Send Report to Teams)\n",
    "    end\n",
    "    one ==> two"
   ]
  },
  {
   "attachments": {},
   "cell_type": "markdown",
   "metadata": {
    "dotnet_interactive": {
     "language": "csharp"
    },
    "polyglot_notebook": {
     "kernelName": "csharp"
    }
   },
   "source": [
    "# Starting with basics\n",
    "\n",
    "## Install Modules\n",
    "\n",
    "You will use PowerShell to work with the [Microsoft Graph API](https://learn.microsoft.com/en-us/graph/overview) and to do this you will require the use of a few modules.\n",
    "\n",
    "Begin by:\n",
    " - Identifying the required modules using the [array sub-expression operator](https://learn.microsoft.com/en-us/powershell/module/microsoft.powershell.core/about/about_arrays#the-array-sub-expression-operator)"
   ]
  },
  {
   "cell_type": "code",
   "execution_count": null,
   "metadata": {
    "dotnet_interactive": {
     "language": "pwsh"
    },
    "polyglot_notebook": {
     "kernelName": "pwsh"
    }
   },
   "outputs": [],
   "source": [
    "$modules = @(\n",
    "    \"Microsoft.Graph.Authentication\",\n",
    "    \"Microsoft.Graph.Mail\",\n",
    "    \"Microsoft.Graph.Teams\",\n",
    "    \"Microsoft.Graph.Reports\"\n",
    ")"
   ]
  },
  {
   "attachments": {},
   "cell_type": "markdown",
   "metadata": {
    "dotnet_interactive": {
     "language": "pwsh"
    },
    "polyglot_notebook": {
     "kernelName": "pwsh"
    }
   },
   "source": [
    " - Identifying currently available Graph modules\n",
    "\n",
    "> ---\n",
    "> ✒️ **_NOTE:_** Below you will use the `?` alias for Where-Object and the `$_` alias for [`$PSItem`](https://learn.microsoft.com/en-us/powershell/module/microsoft.powershell.core/about/about_psitem)\n",
    ">\n",
    "> ---"
   ]
  },
  {
   "cell_type": "code",
   "execution_count": null,
   "metadata": {
    "dotnet_interactive": {
     "language": "pwsh"
    },
    "polyglot_notebook": {
     "kernelName": "pwsh"
    }
   },
   "outputs": [],
   "source": [
    "$available = Get-Module -ListAvailable|?{$_.Name -like \"Microsoft.Graph.*\"}"
   ]
  },
  {
   "attachments": {},
   "cell_type": "markdown",
   "metadata": {
    "dotnet_interactive": {
     "language": "pwsh"
    },
    "polyglot_notebook": {
     "kernelName": "pwsh"
    }
   },
   "source": [
    " - Then if a necessary module is not available you will install it"
   ]
  },
  {
   "cell_type": "code",
   "execution_count": null,
   "metadata": {
    "dotnet_interactive": {
     "language": "pwsh"
    },
    "polyglot_notebook": {
     "kernelName": "pwsh"
    }
   },
   "outputs": [],
   "source": [
    "foreach($module in $modules)\n",
    "{\n",
    "    if($module -notin $available.Name)\n",
    "    {\n",
    "        Install-Module $module\n",
    "    }\n",
    "}"
   ]
  },
  {
   "attachments": {},
   "cell_type": "markdown",
   "metadata": {
    "dotnet_interactive": {
     "language": "csharp"
    },
    "polyglot_notebook": {
     "kernelName": "csharp"
    }
   },
   "source": [
    "## Manage Permissions\n",
    "\n",
    "Now that you have the necessary modules, you can authenticate and be authorized for the different commands you will run.\n",
    "\n",
    " - Create an array of the commands you will need to run"
   ]
  },
  {
   "cell_type": "code",
   "execution_count": null,
   "metadata": {
    "dotnet_interactive": {
     "language": "pwsh"
    },
    "polyglot_notebook": {
     "kernelName": "pwsh"
    }
   },
   "outputs": [],
   "source": [
    "$commands = @(\n",
    "    \"Get-MgUserMessage\",\n",
    "    \"New-MgChatMessage\",\n",
    "    \"Get-MgReportEmailActivityUserDetail\"\n",
    ")"
   ]
  },
  {
   "attachments": {},
   "cell_type": "markdown",
   "metadata": {
    "dotnet_interactive": {
     "language": "pwsh"
    },
    "polyglot_notebook": {
     "kernelName": "pwsh"
    }
   },
   "source": [
    " - For each of your commands use the `Find-MgGraphCommand` to identify the permissions necessary, add them to the `$permissions` array, and keep the list unique"
   ]
  },
  {
   "cell_type": "code",
   "execution_count": null,
   "metadata": {
    "dotnet_interactive": {
     "language": "pwsh"
    },
    "polyglot_notebook": {
     "kernelName": "pwsh"
    }
   },
   "outputs": [],
   "source": [
    "$permissions = @()\n",
    "foreach ($command in $commands)\n",
    "{\n",
    "    $p = (Find-MgGraphCommand -Command $command).Permissions.Name\n",
    "    $permissions += $p | Select-Object -Unique\n",
    "    $permissions = $permissions | Select-Object -Unique | Sort-Object\n",
    "}"
   ]
  },
  {
   "attachments": {},
   "cell_type": "markdown",
   "metadata": {
    "dotnet_interactive": {
     "language": "pwsh"
    },
    "polyglot_notebook": {
     "kernelName": "pwsh"
    }
   },
   "source": [
    " - Connect to the Microsoft Graph and include the permissions you need authorization for\n",
    "\n",
    " > ---\n",
    "> ⚠️ **_Warning:_** You will need to login to an interactive webpage for the next codeblock\n",
    ">\n",
    "> ---"
   ]
  },
  {
   "cell_type": "code",
   "execution_count": null,
   "metadata": {
    "dotnet_interactive": {
     "language": "pwsh"
    },
    "polyglot_notebook": {
     "kernelName": "pwsh"
    }
   },
   "outputs": [],
   "source": [
    "Connect-MgGraph -Scopes $permissions"
   ]
  },
  {
   "attachments": {},
   "cell_type": "markdown",
   "metadata": {
    "dotnet_interactive": {
     "language": "csharp"
    },
    "polyglot_notebook": {
     "kernelName": "csharp"
    }
   },
   "source": [
    "## Get Email"
   ]
  },
  {
   "cell_type": "code",
   "execution_count": null,
   "metadata": {
    "dotnet_interactive": {
     "language": "pwsh"
    },
    "polyglot_notebook": {
     "kernelName": "pwsh"
    }
   },
   "outputs": [],
   "source": [
    "$messages = Get-MgUserMessage -UserId \"admin@M365x64319768.onmicrosoft.com\"\n",
    "$messages | Select-Object -First 1 @{n='From';e={$_.From.EmailAddress.Address}},Subject,BodyPreview"
   ]
  },
  {
   "attachments": {},
   "cell_type": "markdown",
   "metadata": {
    "dotnet_interactive": {
     "language": "csharp"
    },
    "polyglot_notebook": {
     "kernelName": "csharp"
    }
   },
   "source": [
    "## Send Teams Message"
   ]
  },
  {
   "cell_type": "code",
   "execution_count": null,
   "metadata": {
    "dotnet_interactive": {
     "language": "pwsh"
    },
    "polyglot_notebook": {
     "kernelName": "pwsh"
    }
   },
   "outputs": [],
   "source": [
    "$chatId = \"19:Y0smUUwArynK0X-hfNKJeoVb_JymRgAs80oAu94qqlA1@thread.tacv2\"\n",
    "$message = @{\n",
    "    ContentType = \"html\"\n",
    "    Content = @\"\n",
    "        <h2>New email message</h2>\n",
    "        <p><b>From:</b> $(($messages|Select-Object -First 1).From.EmailAddress.Address)</p>\n",
    "        <p><b>To:</b> $(($messages|Select-Object -First 1).ToRecipients.EmailAddress.Address)</p>\n",
    "        <p><b>Subject:</b> $(($messages|Select-Object -First 1).Subject)</p>\n",
    "        <p><b>Body Preview:</b> $(($messages|Select-Object -First 1).BodyPreview)</p>\n",
    "\"@\n",
    "}\n",
    "New-MgChatMessage -ChatId \"$chatId\"`\n",
    "    -Body $message"
   ]
  },
  {
   "attachments": {},
   "cell_type": "markdown",
   "metadata": {
    "dotnet_interactive": {
     "language": "pwsh"
    },
    "polyglot_notebook": {
     "kernelName": "pwsh"
    }
   },
   "source": [
    "# Combining these for complex uses"
   ]
  },
  {
   "attachments": {},
   "cell_type": "markdown",
   "metadata": {
    "dotnet_interactive": {
     "language": "csharp"
    },
    "polyglot_notebook": {
     "kernelName": "csharp"
    }
   },
   "source": [
    "## Run a Report"
   ]
  },
  {
   "cell_type": "code",
   "execution_count": null,
   "metadata": {
    "dotnet_interactive": {
     "language": "pwsh"
    },
    "polyglot_notebook": {
     "kernelName": "pwsh"
    }
   },
   "outputs": [],
   "source": [
    "Get-MgReportEmailActivityUserDetail -Period \"D30\" -OutFile .\\temp.csv"
   ]
  },
  {
   "attachments": {},
   "cell_type": "markdown",
   "metadata": {
    "dotnet_interactive": {
     "language": "pwsh"
    },
    "polyglot_notebook": {
     "kernelName": "pwsh"
    }
   },
   "source": [
    "## Summarize Report"
   ]
  },
  {
   "cell_type": "code",
   "execution_count": null,
   "metadata": {
    "dotnet_interactive": {
     "language": "pwsh"
    },
    "polyglot_notebook": {
     "kernelName": "pwsh"
    }
   },
   "outputs": [],
   "source": [
    "$report = Import-Csv .\\temp.csv\n",
    "$summary = $report|Measure-Object 'Send Count','Receive Count','Read Count','Meeting Created Count','Meeting Interacted Count' -Average -Sum -Maximum -Minimum"
   ]
  },
  {
   "attachments": {},
   "cell_type": "markdown",
   "metadata": {
    "dotnet_interactive": {
     "language": "pwsh"
    },
    "polyglot_notebook": {
     "kernelName": "pwsh"
    }
   },
   "source": [
    "### Check formating"
   ]
  },
  {
   "cell_type": "code",
   "execution_count": null,
   "metadata": {
    "dotnet_interactive": {
     "language": "pwsh"
    },
    "polyglot_notebook": {
     "kernelName": "pwsh"
    }
   },
   "outputs": [],
   "source": [
    "$summary|select Property,Count,Sum,Maximum,Minimum,Average|ConvertTo-Html -Fragment"
   ]
  },
  {
   "attachments": {},
   "cell_type": "markdown",
   "metadata": {
    "dotnet_interactive": {
     "language": "pwsh"
    },
    "polyglot_notebook": {
     "kernelName": "pwsh"
    }
   },
   "source": [
    "## Send Report Summary to Teams"
   ]
  },
  {
   "cell_type": "code",
   "execution_count": null,
   "metadata": {
    "dotnet_interactive": {
     "language": "pwsh"
    },
    "polyglot_notebook": {
     "kernelName": "pwsh"
    }
   },
   "outputs": [],
   "source": [
    "$message = @{\n",
    "    ContentType = \"html\"\n",
    "    Content = @\"\n",
    "        <h2>Monthly Email Utilization Report</h2>\n",
    "        <p>\n",
    "        $($summary|Select-Object Property,Count,Sum,Maximum,Minimum,Average|ConvertTo-Html -Fragment)\n",
    "        </p>\n",
    "\"@\n",
    "}\n",
    "New-MgChatMessage -ChatId \"$chatId\"`\n",
    "    -Body $message"
   ]
  }
 ],
 "metadata": {
  "kernelspec": {
   "display_name": ".NET (C#)",
   "language": "C#",
   "name": ".net-csharp"
  },
  "language_info": {
   "name": "polyglot-notebook"
  },
  "polyglot_notebook": {
   "kernelInfo": {
    "defaultKernelName": "csharp",
    "items": [
     {
      "aliases": [
       "C#",
       "c#"
      ],
      "languageName": "C#",
      "name": "csharp"
     },
     {
      "aliases": [
       "frontend"
      ],
      "name": "vscode"
     }
    ]
   }
  }
 },
 "nbformat": 4,
 "nbformat_minor": 2
}
