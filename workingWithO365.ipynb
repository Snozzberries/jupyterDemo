{
 "cells": [
  {
   "attachments": {},
   "cell_type": "markdown",
   "metadata": {
    "dotnet_interactive": {
     "language": "csharp"
    },
    "polyglot_notebook": {
     "kernelName": "csharp"
    }
   },
   "source": [
    "Install..."
   ]
  },
  {
   "cell_type": "code",
   "execution_count": null,
   "metadata": {
    "dotnet_interactive": {
     "language": "pwsh"
    },
    "polyglot_notebook": {
     "kernelName": "pwsh"
    }
   },
   "outputs": [],
   "source": [
    "$modules = @(\n",
    "    \"Microsoft.Graph.Authentication\",\n",
    "    \"Microsoft.Graph.Mail\",\n",
    "    \"Microsoft.Graph.Teams\",\n",
    "    \"Microsoft.Graph.Reports\"\n",
    ")\n",
    "foreach($module in $modules)\n",
    "{\n",
    "    Install-Module $module\n",
    "}"
   ]
  },
  {
   "attachments": {},
   "cell_type": "markdown",
   "metadata": {
    "dotnet_interactive": {
     "language": "csharp"
    },
    "polyglot_notebook": {
     "kernelName": "csharp"
    }
   },
   "source": [
    "Find Permissions..."
   ]
  },
  {
   "cell_type": "code",
   "execution_count": null,
   "metadata": {
    "dotnet_interactive": {
     "language": "pwsh"
    },
    "polyglot_notebook": {
     "kernelName": "pwsh"
    }
   },
   "outputs": [],
   "source": [
    "$permissions = @()\n",
    "$commands = @(\"Get-MgUserMessage\",\"New-MgChatMessage\",\"Get-MgReportEmailActivityUserDetail\")\n",
    "foreach ($command in $commands)\n",
    "{\n",
    "    $p = (Find-MgGraphCommand -Command $command).Permissions.Name\n",
    "    $permissions += $p | Select-Object -Unique\n",
    "    $permissions = $permissions | Select-Object -Unique | Sort-Object\n",
    "}\n",
    "Connect-MgGraph -Scopes $permissions"
   ]
  },
  {
   "attachments": {},
   "cell_type": "markdown",
   "metadata": {
    "dotnet_interactive": {
     "language": "csharp"
    },
    "polyglot_notebook": {
     "kernelName": "csharp"
    }
   },
   "source": [
    "Get Mail Delegated..."
   ]
  },
  {
   "cell_type": "code",
   "execution_count": null,
   "metadata": {
    "dotnet_interactive": {
     "language": "pwsh"
    },
    "polyglot_notebook": {
     "kernelName": "pwsh"
    }
   },
   "outputs": [],
   "source": [
    "$messages = Get-MgUserMessage -UserId \"admin@M365x64319768.onmicrosoft.com\"\n",
    "$messages | Select-Object -First 1 @{n='From';e={$_.From.EmailAddress.Address}},Subject,BodyPreview"
   ]
  },
  {
   "attachments": {},
   "cell_type": "markdown",
   "metadata": {
    "dotnet_interactive": {
     "language": "csharp"
    },
    "polyglot_notebook": {
     "kernelName": "csharp"
    }
   },
   "source": [
    "Send Teams Chat..."
   ]
  },
  {
   "cell_type": "code",
   "execution_count": null,
   "metadata": {
    "dotnet_interactive": {
     "language": "pwsh"
    },
    "polyglot_notebook": {
     "kernelName": "pwsh"
    }
   },
   "outputs": [],
   "source": [
    "$chatId = \"19:Y0smUUwArynK0X-hfNKJeoVb_JymRgAs80oAu94qqlA1@thread.tacv2\"\n",
    "$message = @{\n",
    "    ContentType = \"html\"\n",
    "    Content = @\"\n",
    "        <h2>New email message</h2>\n",
    "        <p><b>From:</b> $(($messages|Select-Object -First 1).From.EmailAddress.Address)</p>\n",
    "        <p><b>To:</b> $(($messages|Select-Object -First 1).ToRecipients.EmailAddress.Address)</p>\n",
    "        <p><b>Subject:</b> $(($messages|Select-Object -First 1).Subject)</p>\n",
    "        <p><b>Body Preview:</b> $(($messages|Select-Object -First 1).BodyPreview)</p>\n",
    "\"@\n",
    "}\n",
    "New-MgChatMessage -ChatId \"$chatId\"`\n",
    "    -Body $message"
   ]
  },
  {
   "attachments": {},
   "cell_type": "markdown",
   "metadata": {
    "dotnet_interactive": {
     "language": "csharp"
    },
    "polyglot_notebook": {
     "kernelName": "csharp"
    }
   },
   "source": [
    "Run Reports..."
   ]
  },
  {
   "cell_type": "code",
   "execution_count": null,
   "metadata": {
    "dotnet_interactive": {
     "language": "pwsh"
    },
    "polyglot_notebook": {
     "kernelName": "pwsh"
    }
   },
   "outputs": [],
   "source": [
    "Get-MgReportEmailActivityUserDetail -Period \"D30\" -OutFile .\\temp.csv"
   ]
  },
  {
   "attachments": {},
   "cell_type": "markdown",
   "metadata": {
    "dotnet_interactive": {
     "language": "pwsh"
    },
    "polyglot_notebook": {
     "kernelName": "pwsh"
    }
   },
   "source": [
    "Work with the report..."
   ]
  },
  {
   "cell_type": "code",
   "execution_count": null,
   "metadata": {
    "dotnet_interactive": {
     "language": "pwsh"
    },
    "polyglot_notebook": {
     "kernelName": "pwsh"
    }
   },
   "outputs": [],
   "source": [
    "$report = Import-Csv .\\temp.csv\n",
    "$summary = $report|Measure-Object 'Send Count','Receive Count','Read Count','Meeting Created Count','Meeting Interacted Count' -Average -Sum -Maximum -Minimum"
   ]
  },
  {
   "attachments": {},
   "cell_type": "markdown",
   "metadata": {
    "dotnet_interactive": {
     "language": "pwsh"
    },
    "polyglot_notebook": {
     "kernelName": "pwsh"
    }
   },
   "source": [
    "Check formating..."
   ]
  },
  {
   "cell_type": "code",
   "execution_count": null,
   "metadata": {
    "dotnet_interactive": {
     "language": "pwsh"
    },
    "polyglot_notebook": {
     "kernelName": "pwsh"
    }
   },
   "outputs": [],
   "source": [
    "$summary|select Property,Count,Sum,Maximum,Minimum,Average|ConvertTo-Html -Fragment"
   ]
  },
  {
   "attachments": {},
   "cell_type": "markdown",
   "metadata": {
    "dotnet_interactive": {
     "language": "pwsh"
    },
    "polyglot_notebook": {
     "kernelName": "pwsh"
    }
   },
   "source": [
    "Post to Teams..."
   ]
  },
  {
   "cell_type": "code",
   "execution_count": null,
   "metadata": {
    "dotnet_interactive": {
     "language": "pwsh"
    },
    "polyglot_notebook": {
     "kernelName": "pwsh"
    }
   },
   "outputs": [],
   "source": [
    "$message = @{\n",
    "    ContentType = \"html\"\n",
    "    Content = @\"\n",
    "        <h2>Monthly Email Utilization Report</h2>\n",
    "        <p>\n",
    "        $($summary|Select-Object Property,Count,Sum,Maximum,Minimum,Average|ConvertTo-Html -Fragment)\n",
    "        </p>\n",
    "\"@\n",
    "}\n",
    "New-MgChatMessage -ChatId \"$chatId\"`\n",
    "    -Body $message"
   ]
  }
 ],
 "metadata": {
  "kernelspec": {
   "display_name": ".NET (C#)",
   "language": "C#",
   "name": ".net-csharp"
  },
  "language_info": {
   "name": "polyglot-notebook"
  },
  "polyglot_notebook": {
   "kernelInfo": {
    "defaultKernelName": "csharp",
    "items": [
     {
      "aliases": [
       "C#",
       "c#"
      ],
      "languageName": "C#",
      "name": "csharp"
     },
     {
      "aliases": [
       "frontend"
      ],
      "name": "vscode"
     }
    ]
   }
  }
 },
 "nbformat": 4,
 "nbformat_minor": 2
}
