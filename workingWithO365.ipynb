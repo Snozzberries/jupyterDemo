{
 "cells": [
  {
   "attachments": {},
   "cell_type": "markdown",
   "metadata": {},
   "source": [
    "# Getting Started with Modern Management of Microsoft 365\n",
    "\n",
    " > You will review some introductory concepts in working with Microsoft 365 services through the Microsoft Graph API and then combine these services for more complex use cases.\n",
    "\n",
    "# Table of Contents\n",
    " - [Starting with basics](#starting-with-basics)\n",
    "   - [Install Modules](#install-modules)\n",
    "   - [Manage Permissions](#manage-permissions)\n",
    "   - [Get Email](#get-email)\n",
    "   - [Send Teams Message](#send-teams-message)\n",
    " - [Combining these for complex uses](#combining-these-for-complex-uses)\n",
    "   - [Run a Report](#run-a-report)\n",
    "   - [Summarize Report](#summarize-report)\n",
    "   - [Send Report Summary to Teams](#send-report-summary-to-teams)"
   ]
  },
  {
   "cell_type": "code",
   "execution_count": null,
   "metadata": {
    "dotnet_interactive": {
     "language": "mermaid"
    },
    "polyglot_notebook": {
     "kernelName": "mermaid"
    },
    "vscode": {
     "languageId": "polyglot-notebook"
    }
   },
   "outputs": [],
   "source": [
    "flowchart TB\n",
    "    subgraph one [Starting with basics]\n",
    "        direction LR\n",
    "        s1(Install Modules) ==> s2(Manage Permissions)\n",
    "        s2 ==> s3(Get Email)\n",
    "        s3 ==> s4(Send Teams Message)\n",
    "    end\n",
    "    subgraph two [Combining these for complex uses]\n",
    "        direction LR\n",
    "        s5(Run a Report) ==> s6(Summarize Report)\n",
    "        s6 ==> s7(Send Report to Teams)\n",
    "    end\n",
    "    one ==> two"
   ]
  },
  {
   "attachments": {},
   "cell_type": "markdown",
   "metadata": {},
   "source": [
    "# Starting with basics\n",
    "\n",
    "## Install Modules\n",
    "\n",
    "You will use PowerShell to work with the [Microsoft Graph API](https://learn.microsoft.com/en-us/graph/overview) and to do this you will require the use of a few modules.\n",
    "\n",
    "Begin by:\n",
    " - Identifying the required modules using the [array sub-expression operator](https://learn.microsoft.com/en-us/powershell/module/microsoft.powershell.core/about/about_arrays#the-array-sub-expression-operator)"
   ]
  },
  {
   "cell_type": "code",
   "execution_count": null,
   "metadata": {
    "dotnet_interactive": {
     "language": "pwsh"
    },
    "polyglot_notebook": {
     "kernelName": "pwsh"
    },
    "vscode": {
     "languageId": "polyglot-notebook"
    }
   },
   "outputs": [],
   "source": [
    "$modules = @(\n",
    "    \"Microsoft.Graph.Authentication\",\n",
    "    \"Microsoft.Graph.Mail\",\n",
    "    \"Microsoft.Graph.Teams\",\n",
    "    \"Microsoft.Graph.Reports\"\n",
    ")"
   ]
  },
  {
   "attachments": {},
   "cell_type": "markdown",
   "metadata": {},
   "source": [
    " - Identifying currently available Graph modules & trust the PSGallery\n",
    "\n",
    "> ---\n",
    "> ✒️ **_NOTE:_** Below you will use the `?` alias for Where-Object and the `$_` alias for [`$PSItem`](https://learn.microsoft.com/en-us/powershell/module/microsoft.powershell.core/about/about_psitem)\n",
    ">\n",
    "> ---"
   ]
  },
  {
   "cell_type": "code",
   "execution_count": null,
   "metadata": {
    "dotnet_interactive": {
     "language": "pwsh"
    },
    "polyglot_notebook": {
     "kernelName": "pwsh"
    },
    "vscode": {
     "languageId": "polyglot-notebook"
    }
   },
   "outputs": [],
   "source": [
    "$available = Get-Module -ListAvailable|?{$_.Name -like \"Microsoft.Graph.*\"}\n",
    "Set-PSRepository -Name 'PSGallery' -InstallationPolicy Trusted"
   ]
  },
  {
   "attachments": {},
   "cell_type": "markdown",
   "metadata": {},
   "source": [
    " - Then if a necessary module is not available you will install it"
   ]
  },
  {
   "cell_type": "code",
   "execution_count": null,
   "metadata": {
    "dotnet_interactive": {
     "language": "pwsh"
    },
    "polyglot_notebook": {
     "kernelName": "pwsh"
    },
    "vscode": {
     "languageId": "polyglot-notebook"
    }
   },
   "outputs": [],
   "source": [
    "foreach($module in $modules)\n",
    "{\n",
    "    if($module -notin $available.Name)\n",
    "    {\n",
    "        Install-Module $module\n",
    "    }\n",
    "}"
   ]
  },
  {
   "attachments": {},
   "cell_type": "markdown",
   "metadata": {},
   "source": [
    "## Manage Permissions\n",
    "\n",
    "Now that you have the necessary modules, you can authenticate and be authorized for the different commands you will run.\n",
    "\n",
    " - Create an array of the commands you will need to run"
   ]
  },
  {
   "cell_type": "code",
   "execution_count": null,
   "metadata": {
    "dotnet_interactive": {
     "language": "pwsh"
    },
    "polyglot_notebook": {
     "kernelName": "pwsh"
    },
    "vscode": {
     "languageId": "polyglot-notebook"
    }
   },
   "outputs": [],
   "source": [
    "$commands = @(\n",
    "    \"Get-MgUserMessage\",\n",
    "    \"New-MgChatMessage\",\n",
    "    \"Get-MgReportEmailActivityUserDetail\"\n",
    ")"
   ]
  },
  {
   "attachments": {},
   "cell_type": "markdown",
   "metadata": {},
   "source": [
    " - For each of your commands use the `Find-MgGraphCommand` to identify the permissions necessary, add them to the `$permissions` array, and keep the list unique"
   ]
  },
  {
   "cell_type": "code",
   "execution_count": null,
   "metadata": {
    "dotnet_interactive": {
     "language": "pwsh"
    },
    "polyglot_notebook": {
     "kernelName": "pwsh"
    },
    "vscode": {
     "languageId": "polyglot-notebook"
    }
   },
   "outputs": [],
   "source": [
    "$permissions = @()\n",
    "foreach ($command in $commands)\n",
    "{\n",
    "    $p = (Find-MgGraphCommand -Command $command).Permissions.Name\n",
    "    $permissions += $p | Select-Object -Unique\n",
    "    $permissions = $permissions | Select-Object -Unique | Sort-Object\n",
    "}"
   ]
  },
  {
   "attachments": {},
   "cell_type": "markdown",
   "metadata": {},
   "source": [
    " - Connect to the Microsoft Graph and include the permissions you need authorization for\n",
    "\n",
    " > ---\n",
    "> ⚠️ **_Warning:_** You will login to an interactive webpage for the next codeblock\n",
    ">\n",
    "> ---"
   ]
  },
  {
   "cell_type": "code",
   "execution_count": null,
   "metadata": {
    "dotnet_interactive": {
     "language": "pwsh"
    },
    "polyglot_notebook": {
     "kernelName": "pwsh"
    },
    "vscode": {
     "languageId": "polyglot-notebook"
    }
   },
   "outputs": [],
   "source": [
    "Connect-MgGraph -Scopes $permissions -ContextScope Process"
   ]
  },
  {
   "attachments": {},
   "cell_type": "markdown",
   "metadata": {},
   "source": [
    "## Get Email\n",
    "\n",
    "Now that you have authenticated and been authorized to work with the Microsoft Graph, you will read an email from an Exchange Online Mailbox.\n",
    "\n",
    " - Start by getting the user identity which you authenticated to the graph as"
   ]
  },
  {
   "cell_type": "code",
   "execution_count": null,
   "metadata": {
    "dotnet_interactive": {
     "language": "pwsh"
    },
    "polyglot_notebook": {
     "kernelName": "pwsh"
    },
    "vscode": {
     "languageId": "polyglot-notebook"
    }
   },
   "outputs": [],
   "source": [
    "$userId = (Get-MgContext).Account"
   ]
  },
  {
   "attachments": {},
   "cell_type": "markdown",
   "metadata": {},
   "source": [
    " - Get the most recent email in your mailbox and display the from address, subject, and body preview"
   ]
  },
  {
   "cell_type": "code",
   "execution_count": null,
   "metadata": {
    "dotnet_interactive": {
     "language": "pwsh"
    },
    "polyglot_notebook": {
     "kernelName": "pwsh"
    },
    "vscode": {
     "languageId": "polyglot-notebook"
    }
   },
   "outputs": [],
   "source": [
    "$messages = Get-MgUserMessage -UserId \"$userId\" -Top 1\n",
    "$messages | Select-Object @{n='From';e={$_.From.EmailAddress.Address}},Subject,BodyPreview"
   ]
  },
  {
   "attachments": {},
   "cell_type": "markdown",
   "metadata": {},
   "source": [
    "## Send Teams Message\n",
    "\n",
    "Lets work with Microsoft Teams as your next Office 365 service through the Microsoft Graph. You will take that email and share it as a Teams Message.\n",
    "\n",
    " - Define the channel you want the message to go to as `$chatId` and the message contents as `$message`\n",
    "   - You will want to change the chatId to the channel that is correct for your tenant, it is easiest to find this by using the Teams web client\n",
    " \n",
    "> ---\n",
    "> ✒️ **_NOTE:_** The `$chatId` variable defined below is used in following sections.\n",
    ">\n",
    "> ---"
   ]
  },
  {
   "cell_type": "code",
   "execution_count": null,
   "metadata": {
    "dotnet_interactive": {
     "language": "pwsh"
    },
    "polyglot_notebook": {
     "kernelName": "pwsh"
    },
    "vscode": {
     "languageId": "polyglot-notebook"
    }
   },
   "outputs": [],
   "source": [
    "$chatId = \"19:669708bdb81e46ccbd58e05ec1bdcb44@thread.tacv2\"\n",
    "$message = @{\n",
    "    ContentType = \"html\"\n",
    "    Content = @\"\n",
    "        <h2>New email message</h2>\n",
    "        <p><b>From:</b> $(($messages).From.EmailAddress.Address)</p>\n",
    "        <p><b>To:</b> $(($messages).ToRecipients.EmailAddress.Address)</p>\n",
    "        <p><b>Subject:</b> $(($messages).Subject)</p>\n",
    "        <p><b>Body Preview:</b> $(($messages).BodyPreview)</p>\n",
    "\"@\n",
    "}"
   ]
  },
  {
   "attachments": {},
   "cell_type": "markdown",
   "metadata": {},
   "source": [
    " - Send your message to Teams"
   ]
  },
  {
   "cell_type": "code",
   "execution_count": null,
   "metadata": {
    "dotnet_interactive": {
     "language": "pwsh"
    },
    "polyglot_notebook": {
     "kernelName": "pwsh"
    },
    "vscode": {
     "languageId": "polyglot-notebook"
    }
   },
   "outputs": [],
   "source": [
    "New-MgChatMessage -ChatId \"$chatId\"`\n",
    "    -Body $message"
   ]
  },
  {
   "attachments": {},
   "cell_type": "markdown",
   "metadata": {},
   "source": [
    "# Combining these for complex uses"
   ]
  },
  {
   "attachments": {},
   "cell_type": "markdown",
   "metadata": {},
   "source": [
    "## Run a Report\n",
    "\n",
    "Within the Microsoft 365 Admin Center there are many graphs and [activity reports](https://learn.microsoft.com/en-us/graph/api/reportroot-getemailactivityuserdetail) available. You can dynamically work with these reports and add them to your normal operations using the Microsoft Graph API.\n",
    "\n",
    " - Begin by getting the email activity details by user for the past 30 days to the `temp.csv` in the current directory"
   ]
  },
  {
   "cell_type": "code",
   "execution_count": null,
   "metadata": {
    "dotnet_interactive": {
     "language": "pwsh"
    },
    "polyglot_notebook": {
     "kernelName": "pwsh"
    },
    "vscode": {
     "languageId": "polyglot-notebook"
    }
   },
   "outputs": [],
   "source": [
    "Get-MgReportEmailActivityUserDetail -Period \"D30\" -OutFile ./temp.csv"
   ]
  },
  {
   "attachments": {},
   "cell_type": "markdown",
   "metadata": {},
   "source": [
    "## Summarize Report\n",
    "\n",
    "Now that you have a copy of the report downloaded you can summarize the contents.\n",
    "\n",
    " - Import the `temp.csv` report to a PowerShell object and then generate some measurements of the objects"
   ]
  },
  {
   "cell_type": "code",
   "execution_count": null,
   "metadata": {
    "dotnet_interactive": {
     "language": "pwsh"
    },
    "polyglot_notebook": {
     "kernelName": "pwsh"
    },
    "vscode": {
     "languageId": "polyglot-notebook"
    }
   },
   "outputs": [],
   "source": [
    "$report = Import-Csv ./temp.csv\n",
    "$summary = $report|Measure-Object 'Send Count',`\n",
    "                        'Receive Count',`\n",
    "                        'Read Count',`\n",
    "                        'Meeting Created Count',`\n",
    "                        'Meeting Interacted Count' -Average -Sum -Maximum -Minimum"
   ]
  },
  {
   "attachments": {},
   "cell_type": "markdown",
   "metadata": {},
   "source": [
    " - You can check the summary was properly calculated and display it in an HTML table in preparation for sending it in Teams"
   ]
  },
  {
   "cell_type": "code",
   "execution_count": null,
   "metadata": {
    "dotnet_interactive": {
     "language": "pwsh"
    },
    "polyglot_notebook": {
     "kernelName": "pwsh"
    },
    "vscode": {
     "languageId": "polyglot-notebook"
    }
   },
   "outputs": [],
   "source": [
    "[string]$table=$summary|select Property,Count,Sum,Maximum,Minimum,Average|ConvertTo-Html -Fragment"
   ]
  },
  {
   "cell_type": "code",
   "execution_count": null,
   "metadata": {
    "dotnet_interactive": {
     "language": "csharp"
    },
    "polyglot_notebook": {
     "kernelName": "csharp"
    },
    "vscode": {
     "languageId": "polyglot-notebook"
    }
   },
   "outputs": [],
   "source": [
    "#!set --name table --mime-type text/plain --value @pwsh:table\n",
    "table.DisplayAs(\"text/html\");"
   ]
  },
  {
   "attachments": {},
   "cell_type": "markdown",
   "metadata": {},
   "source": [
    "## Send Report Summary to Teams\n",
    "\n",
    "With your summarized email usage, now you can share this with the team.\n",
    "\n",
    " - Include your summary in the message body and send your message"
   ]
  },
  {
   "cell_type": "code",
   "execution_count": null,
   "metadata": {
    "dotnet_interactive": {
     "language": "pwsh"
    },
    "polyglot_notebook": {
     "kernelName": "pwsh"
    },
    "vscode": {
     "languageId": "polyglot-notebook"
    }
   },
   "outputs": [],
   "source": [
    "$message = @{\n",
    "    ContentType = \"html\"\n",
    "    Content = @\"\n",
    "        <h2>Monthly Email Utilization Report</h2>\n",
    "        <p>\n",
    "        $($summary|Select-Object Property,Count,Sum,Maximum,Minimum,Average|ConvertTo-Html -Fragment)\n",
    "        </p>\n",
    "\"@\n",
    "}\n",
    "New-MgChatMessage -ChatId \"$chatId\"`\n",
    "    -Body $message"
   ]
  },
  {
   "attachments": {},
   "cell_type": "markdown",
   "metadata": {},
   "source": [
    " - Last but not least clean up the temp file you created"
   ]
  },
  {
   "cell_type": "code",
   "execution_count": null,
   "metadata": {
    "dotnet_interactive": {
     "language": "pwsh"
    },
    "polyglot_notebook": {
     "kernelName": "pwsh"
    },
    "vscode": {
     "languageId": "polyglot-notebook"
    }
   },
   "outputs": [],
   "source": [
    "Remove-Item ./temp.csv"
   ]
  },
  {
   "attachments": {},
   "cell_type": "markdown",
   "metadata": {},
   "source": [
    "This is just the beginning of what you can do with the Microsoft Graph and other Microsoft 365 management techniques using PowerShell."
   ]
  }
 ],
 "metadata": {
  "kernelspec": {
   "display_name": ".NET (PowerShell)",
   "language": "PowerShell",
   "name": ".net-powershell"
  },
  "language_info": {
   "file_extension": ".ps1",
   "mimetype": "text/x-powershell",
   "name": "PowerShell",
   "pygments_lexer": "powershell",
   "version": "7.0"
  }
 },
 "nbformat": 4,
 "nbformat_minor": 2
}
