{
 "cells": [
  {
   "cell_type": "code",
   "execution_count": null,
   "id": "2742c990-0bd4-4f1e-9e94-bf4766ec36ab",
   "metadata": {
    "tags": []
   },
   "outputs": [],
   "source": [
    "#!Bash\n",
    "#Enable Extensions\n",
    "pip install powerbiclient\n",
    "jupyter labextension build\n",
    "jupyter labextension list"
   ]
  },
  {
   "attachments": {},
   "cell_type": "markdown",
   "id": "d93e2126",
   "metadata": {},
   "source": [
    "Enable extensions and build"
   ]
  },
  {
   "cell_type": "code",
   "execution_count": 3,
   "id": "021c924c-8f46-4ebb-b91b-dd558e19cd5a",
   "metadata": {
    "tags": []
   },
   "outputs": [],
   "source": [
    "from powerbiclient import QuickVisualize, get_dataset_config, Report\n",
    "from powerbiclient.authentication import DeviceCodeLoginAuthentication\n",
    "\n",
    "import pandas as pd\n",
    "device_auth = DeviceCodeLoginAuthentication()"
   ]
  },
  {
   "attachments": {},
   "cell_type": "markdown",
   "id": "aed71c81",
   "metadata": {},
   "source": [
    "Download CSV from workingWithO365.ipynb"
   ]
  },
  {
   "cell_type": "code",
   "execution_count": 5,
   "id": "262386cb-2efa-4e17-a77e-df965e09d444",
   "metadata": {
    "tags": []
   },
   "outputs": [
    {
     "data": {
      "text/html": [
       "<div>\n",
       "<style scoped>\n",
       "    .dataframe tbody tr th:only-of-type {\n",
       "        vertical-align: middle;\n",
       "    }\n",
       "\n",
       "    .dataframe tbody tr th {\n",
       "        vertical-align: top;\n",
       "    }\n",
       "\n",
       "    .dataframe thead th {\n",
       "        text-align: right;\n",
       "    }\n",
       "</style>\n",
       "<table border=\"1\" class=\"dataframe\">\n",
       "  <thead>\n",
       "    <tr style=\"text-align: right;\">\n",
       "      <th></th>\n",
       "      <th>Report Refresh Date</th>\n",
       "      <th>User Principal Name</th>\n",
       "      <th>Display Name</th>\n",
       "      <th>Is Deleted</th>\n",
       "      <th>Deleted Date</th>\n",
       "      <th>Last Activity Date</th>\n",
       "      <th>Send Count</th>\n",
       "      <th>Receive Count</th>\n",
       "      <th>Read Count</th>\n",
       "      <th>Meeting Created Count</th>\n",
       "      <th>Meeting Interacted Count</th>\n",
       "      <th>Assigned Products</th>\n",
       "      <th>Report Period</th>\n",
       "    </tr>\n",
       "  </thead>\n",
       "  <tbody>\n",
       "    <tr>\n",
       "      <th>0</th>\n",
       "      <td>2023-04-23</td>\n",
       "      <td>6C4DE0DAA0DFE40812EF7D4CF4213C9E</td>\n",
       "      <td>3185DE8318D12883DCDCB661538B2123</td>\n",
       "      <td>False</td>\n",
       "      <td>NaN</td>\n",
       "      <td>2023-02-16</td>\n",
       "      <td>0</td>\n",
       "      <td>4</td>\n",
       "      <td>0</td>\n",
       "      <td>0</td>\n",
       "      <td>0</td>\n",
       "      <td>MICROSOFT 365 E5</td>\n",
       "      <td>30</td>\n",
       "    </tr>\n",
       "    <tr>\n",
       "      <th>1</th>\n",
       "      <td>2023-04-23</td>\n",
       "      <td>3C6D40E585463DA05198E158A2651CA1</td>\n",
       "      <td>498B318F69F660B104C182EC5730F64B</td>\n",
       "      <td>False</td>\n",
       "      <td>NaN</td>\n",
       "      <td>2023-02-16</td>\n",
       "      <td>0</td>\n",
       "      <td>4</td>\n",
       "      <td>0</td>\n",
       "      <td>0</td>\n",
       "      <td>0</td>\n",
       "      <td>MICROSOFT 365 E5</td>\n",
       "      <td>30</td>\n",
       "    </tr>\n",
       "    <tr>\n",
       "      <th>2</th>\n",
       "      <td>2023-04-23</td>\n",
       "      <td>CC414C93CDED899949CFA44EC2818D6A</td>\n",
       "      <td>7940370160B45F5E8EDF61FF87FB8724</td>\n",
       "      <td>False</td>\n",
       "      <td>NaN</td>\n",
       "      <td>2023-02-16</td>\n",
       "      <td>0</td>\n",
       "      <td>0</td>\n",
       "      <td>0</td>\n",
       "      <td>0</td>\n",
       "      <td>0</td>\n",
       "      <td>MICROSOFT 365 E5</td>\n",
       "      <td>30</td>\n",
       "    </tr>\n",
       "    <tr>\n",
       "      <th>3</th>\n",
       "      <td>2023-04-23</td>\n",
       "      <td>71FEA74089ED41BDAD96A9B317146629</td>\n",
       "      <td>6A4630397AAA1A9C8EED362168DC88A0</td>\n",
       "      <td>False</td>\n",
       "      <td>NaN</td>\n",
       "      <td>NaN</td>\n",
       "      <td>0</td>\n",
       "      <td>4</td>\n",
       "      <td>0</td>\n",
       "      <td>0</td>\n",
       "      <td>0</td>\n",
       "      <td>MICROSOFT 365 E5+WINDOWS 365 ENTERPRISE 2 VCPU...</td>\n",
       "      <td>30</td>\n",
       "    </tr>\n",
       "    <tr>\n",
       "      <th>4</th>\n",
       "      <td>2023-04-23</td>\n",
       "      <td>E213464C4D7C75CD21E811C877757047</td>\n",
       "      <td>21215AEDBF99B797E2E7B1A7CE04067B</td>\n",
       "      <td>False</td>\n",
       "      <td>NaN</td>\n",
       "      <td>2023-02-16</td>\n",
       "      <td>0</td>\n",
       "      <td>0</td>\n",
       "      <td>0</td>\n",
       "      <td>0</td>\n",
       "      <td>0</td>\n",
       "      <td>MICROSOFT 365 E5</td>\n",
       "      <td>30</td>\n",
       "    </tr>\n",
       "  </tbody>\n",
       "</table>\n",
       "</div>"
      ],
      "text/plain": [
       "  Report Refresh Date               User Principal Name   \n",
       "0          2023-04-23  6C4DE0DAA0DFE40812EF7D4CF4213C9E  \\\n",
       "1          2023-04-23  3C6D40E585463DA05198E158A2651CA1   \n",
       "2          2023-04-23  CC414C93CDED899949CFA44EC2818D6A   \n",
       "3          2023-04-23  71FEA74089ED41BDAD96A9B317146629   \n",
       "4          2023-04-23  E213464C4D7C75CD21E811C877757047   \n",
       "\n",
       "                       Display Name  Is Deleted  Deleted Date   \n",
       "0  3185DE8318D12883DCDCB661538B2123       False           NaN  \\\n",
       "1  498B318F69F660B104C182EC5730F64B       False           NaN   \n",
       "2  7940370160B45F5E8EDF61FF87FB8724       False           NaN   \n",
       "3  6A4630397AAA1A9C8EED362168DC88A0       False           NaN   \n",
       "4  21215AEDBF99B797E2E7B1A7CE04067B       False           NaN   \n",
       "\n",
       "  Last Activity Date  Send Count  Receive Count  Read Count   \n",
       "0         2023-02-16           0              4           0  \\\n",
       "1         2023-02-16           0              4           0   \n",
       "2         2023-02-16           0              0           0   \n",
       "3                NaN           0              4           0   \n",
       "4         2023-02-16           0              0           0   \n",
       "\n",
       "   Meeting Created Count  Meeting Interacted Count   \n",
       "0                      0                         0  \\\n",
       "1                      0                         0   \n",
       "2                      0                         0   \n",
       "3                      0                         0   \n",
       "4                      0                         0   \n",
       "\n",
       "                                   Assigned Products  Report Period  \n",
       "0                                   MICROSOFT 365 E5             30  \n",
       "1                                   MICROSOFT 365 E5             30  \n",
       "2                                   MICROSOFT 365 E5             30  \n",
       "3  MICROSOFT 365 E5+WINDOWS 365 ENTERPRISE 2 VCPU...             30  \n",
       "4                                   MICROSOFT 365 E5             30  "
      ]
     },
     "execution_count": 5,
     "metadata": {},
     "output_type": "execute_result"
    }
   ],
   "source": [
    "df = pd.read_csv('./temp.csv')\n",
    "\n",
    "df.head()"
   ]
  },
  {
   "cell_type": "code",
   "execution_count": null,
   "id": "4d76b89d-221b-4076-9fa8-2d0ca2293b30",
   "metadata": {
    "tags": []
   },
   "outputs": [],
   "source": [
    "# Create a Power BI report from your data\n",
    "PBI_visualize = QuickVisualize(get_dataset_config(df), auth=device_auth)\n",
    "# Render the new report\n",
    "PBI_visualize"
   ]
  }
 ],
 "metadata": {
  "kernelspec": {
   "display_name": "Python 3 (ipykernel)",
   "language": "python",
   "name": "python3"
  },
  "language_info": {
   "codemirror_mode": {
    "name": "ipython",
    "version": 3
   },
   "file_extension": ".py",
   "mimetype": "text/x-python",
   "name": "python",
   "nbconvert_exporter": "python",
   "pygments_lexer": "ipython3",
   "version": "3.10.9"
  }
 },
 "nbformat": 4,
 "nbformat_minor": 5
}
