{
 "cells": [
  {
   "cell_type": "code",
   "execution_count": null,
   "id": "71ee6ee1",
   "metadata": {},
   "outputs": [],
   "source": [
    "#!Bash\n",
    "#Enable Extensions\n",
    "pip install powerbiclient\n",
    "jupyter labextension install @jupyter-widgets/jupyterlab-manager\n",
    "#pip install ipywidgets\n",
    "#jupyter nbextension enable --py widgetsnbextension\n",
    "#jupyter lab build\n",
    "#jupyter labextension list\n",
    "#conda install -c conda-forge ipywidgets"
   ]
  },
  {
   "attachments": {},
   "cell_type": "markdown",
   "id": "d93e2126",
   "metadata": {},
   "source": [
    "Enable extensions and build"
   ]
  },
  {
   "cell_type": "code",
   "execution_count": null,
   "id": "29e9d681",
   "metadata": {},
   "outputs": [],
   "source": [
    "from powerbiclient import QuickVisualize, get_dataset_config, Report\n",
    "from powerbiclient.authentication import DeviceCodeLoginAuthentication\n",
    "\n",
    "import pandas as pd\n",
    "device_auth = DeviceCodeLoginAuthentication()"
   ]
  },
  {
   "attachments": {},
   "cell_type": "markdown",
   "id": "aed71c81",
   "metadata": {},
   "source": [
    "Download CSV from workingWithO365.ipynb"
   ]
  },
  {
   "cell_type": "code",
   "execution_count": null,
   "id": "3cfb17dc",
   "metadata": {},
   "outputs": [],
   "source": [
    "df = pd.read_csv('./temp.csv')\n",
    "\n",
    "df.head()"
   ]
  },
  {
   "cell_type": "code",
   "execution_count": null,
   "id": "20274632",
   "metadata": {},
   "outputs": [],
   "source": [
    "# Create a Power BI report from your data\n",
    "PBI_visualize = QuickVisualize(get_dataset_config(df), auth=device_auth)\n",
    "# Render the new report\n",
    "PBI_visualize"
   ]
  }
 ],
 "metadata": {
  "kernelspec": {
   "display_name": "Python 3 (ipykernel)",
   "language": "python",
   "name": "python3"
  },
  "language_info": {
   "codemirror_mode": {
    "name": "ipython",
    "version": 3
   },
   "file_extension": ".py",
   "mimetype": "text/x-python",
   "name": "python",
   "nbconvert_exporter": "python",
   "pygments_lexer": "ipython3",
   "version": "3.10.9"
  }
 },
 "nbformat": 4,
 "nbformat_minor": 5
}
